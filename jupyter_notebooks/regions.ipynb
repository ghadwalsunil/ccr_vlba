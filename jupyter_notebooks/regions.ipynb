{
 "cells": [
  {
   "cell_type": "code",
   "execution_count": 1,
   "metadata": {},
   "outputs": [],
   "source": [
    "import pandas as pd"
   ]
  },
  {
   "cell_type": "code",
   "execution_count": 46,
   "metadata": {},
   "outputs": [
    {
     "name": "stdout",
     "output_type": "stream",
     "text": [
      "  BusinessTripId   StartDate     EndDate EmployeeId  PostalCode          City  \\\n",
      "0       BT102937  1996-01-02  1996-01-05    E107601       36266      Heringen   \n",
      "1       BT102938  1996-01-04  1996-01-09    E107601       36251  Bad Hersfeld   \n",
      "2       BT102945  1996-01-05  1996-01-07    E107590       36287   Breitenbach   \n",
      "3       BT102952  1996-01-06  1996-01-10    E107601       36219      Cornberg   \n",
      "4       BT102953  1996-01-06  1996-01-07    E107590       36287   Breitenbach   \n",
      "\n",
      "   OvernightStays  HotelCosts  TravelCosts Currency  \n",
      "0               3         0.0       101.01      EUR  \n",
      "1               5         0.0       148.86      EUR  \n",
      "2               2         0.0        62.05      EUR  \n",
      "3               4         0.0       141.84      EUR  \n",
      "4               1         0.0        33.29      EUR  \n",
      "<class 'pandas.core.frame.DataFrame'>\n",
      "RangeIndex: 17117 entries, 0 to 17116\n",
      "Data columns (total 10 columns):\n",
      " #   Column          Non-Null Count  Dtype  \n",
      "---  ------          --------------  -----  \n",
      " 0   BusinessTripId  17117 non-null  object \n",
      " 1   StartDate       17117 non-null  object \n",
      " 2   EndDate         17117 non-null  object \n",
      " 3   EmployeeId      17117 non-null  object \n",
      " 4   PostalCode      17117 non-null  int64  \n",
      " 5   City            17117 non-null  object \n",
      " 6   OvernightStays  17117 non-null  int64  \n",
      " 7   HotelCosts      17117 non-null  float64\n",
      " 8   TravelCosts     17117 non-null  float64\n",
      " 9   Currency        17117 non-null  object \n",
      "dtypes: float64(2), int64(2), object(6)\n",
      "memory usage: 1.3+ MB\n",
      "None\n"
     ]
    }
   ],
   "source": [
    "df = pd.read_csv(\"C://Users//Er Pravin Pandey//OneDrive//Desktop//vlba_project//data_CCR//CCR_2//MwwCcrBusinessTrips_2.csv\",encoding = 'unicode_escape',on_bad_lines='skip')\n",
    "print(df.head())\n",
    "print(df.info())"
   ]
  },
  {
   "cell_type": "code",
   "execution_count": 47,
   "metadata": {},
   "outputs": [],
   "source": [
    "df.PostalCode = df.PostalCode.apply(lambda x: int(str(x).rjust(5,'0')))"
   ]
  },
  {
   "cell_type": "code",
   "execution_count": 48,
   "metadata": {},
   "outputs": [
    {
     "name": "stdout",
     "output_type": "stream",
     "text": [
      "<class 'pandas.core.frame.DataFrame'>\n",
      "RangeIndex: 17117 entries, 0 to 17116\n",
      "Data columns (total 10 columns):\n",
      " #   Column          Non-Null Count  Dtype  \n",
      "---  ------          --------------  -----  \n",
      " 0   BusinessTripId  17117 non-null  object \n",
      " 1   StartDate       17117 non-null  object \n",
      " 2   EndDate         17117 non-null  object \n",
      " 3   EmployeeId      17117 non-null  object \n",
      " 4   PostalCode      17117 non-null  string \n",
      " 5   City            17117 non-null  object \n",
      " 6   OvernightStays  17117 non-null  int64  \n",
      " 7   HotelCosts      17117 non-null  float64\n",
      " 8   TravelCosts     17117 non-null  float64\n",
      " 9   Currency        17117 non-null  object \n",
      "dtypes: float64(2), int64(1), object(6), string(1)\n",
      "memory usage: 1.3+ MB\n",
      "None\n"
     ]
    }
   ],
   "source": [
    "df.PostalCode = df.PostalCode.astype('string')\n",
    "print(df.info())"
   ]
  },
  {
   "cell_type": "code",
   "execution_count": 51,
   "metadata": {},
   "outputs": [
    {
     "name": "stdout",
     "output_type": "stream",
     "text": [
      "  BusinessTripId   StartDate     EndDate EmployeeId PostalCode          City  \\\n",
      "0       BT102937  1996-01-02  1996-01-05    E107601      36266      Heringen   \n",
      "1       BT102938  1996-01-04  1996-01-09    E107601      36251  Bad Hersfeld   \n",
      "2       BT102945  1996-01-05  1996-01-07    E107590      36287   Breitenbach   \n",
      "3       BT102952  1996-01-06  1996-01-10    E107601      36219      Cornberg   \n",
      "4       BT102953  1996-01-06  1996-01-07    E107590      36287   Breitenbach   \n",
      "\n",
      "   OvernightStays  HotelCosts  TravelCosts Currency  \n",
      "0               3         0.0       101.01      EUR  \n",
      "1               5         0.0       148.86      EUR  \n",
      "2               2         0.0        62.05      EUR  \n",
      "3               4         0.0       141.84      EUR  \n",
      "4               1         0.0        33.29      EUR  \n"
     ]
    }
   ],
   "source": [
    "print(df.head())"
   ]
  },
  {
   "cell_type": "code",
   "execution_count": 53,
   "metadata": {},
   "outputs": [
    {
     "name": "stdout",
     "output_type": "stream",
     "text": [
      "     BusinessTripId   StartDate     EndDate EmployeeId PostalCode  \\\n",
      "2344       BT113448  2000-01-11  2000-01-17    E107590      55743   \n",
      "2373       BT113573  2000-01-27  2000-02-05    E107623      53533   \n",
      "2501       BT114154  2000-04-02  2000-04-11    E107590      55234   \n",
      "2513       BT114206  2000-04-08  2000-04-14    E107691      56305   \n",
      "2521       BT114247  2000-04-11  2000-04-16    E107623      59069   \n",
      "\n",
      "              City  OvernightStays  HotelCosts  TravelCosts Currency  \n",
      "2344  Kirschweiler               6     1096.05        29.34      EUR  \n",
      "2373    Stahlhütte               9     1453.74        32.78      EUR  \n",
      "2501    Dintesheim               9     1660.58        24.70      EUR  \n",
      "2513   Niederähren               6      988.97        30.63      EUR  \n",
      "2521          Hamm               5      887.69        30.85      EUR  \n"
     ]
    }
   ],
   "source": [
    "df_5 = df.loc[df['PostalCode'].str.startswith('5', na=False)]\n",
    "print(df_5.head())"
   ]
  },
  {
   "cell_type": "code",
   "execution_count": 54,
   "metadata": {},
   "outputs": [
    {
     "name": "stdout",
     "output_type": "stream",
     "text": [
      "17117\n"
     ]
    }
   ],
   "source": [
    "print(len(df))"
   ]
  },
  {
   "cell_type": "code",
   "execution_count": 55,
   "metadata": {},
   "outputs": [
    {
     "name": "stdout",
     "output_type": "stream",
     "text": [
      "Empty DataFrame\n",
      "Columns: [BusinessTripId, StartDate, EndDate, EmployeeId, PostalCode, City, OvernightStays, HotelCosts, TravelCosts, Currency]\n",
      "Index: []\n",
      "=== 0\n"
     ]
    }
   ],
   "source": [
    "df_0 = df.loc[df['PostalCode'].str.startswith('0', na=False)]\n",
    "print(df_0.head())\n",
    "print(\"=\" * 3, len(df_0))"
   ]
  },
  {
   "cell_type": "code",
   "execution_count": 56,
   "metadata": {},
   "outputs": [
    {
     "name": "stdout",
     "output_type": "stream",
     "text": [
      "Empty DataFrame\n",
      "Columns: [BusinessTripId, StartDate, EndDate, EmployeeId, PostalCode, City, OvernightStays, HotelCosts, TravelCosts, Currency]\n",
      "Index: []\n",
      "=== 0\n"
     ]
    }
   ],
   "source": [
    "df_1 = df.loc[df['PostalCode'].str.startswith('1', na=False)]\n",
    "print(df_1.head())\n",
    "print(\"=\" * 3, len(df_1))"
   ]
  },
  {
   "cell_type": "code",
   "execution_count": 59,
   "metadata": {},
   "outputs": [
    {
     "name": "stdout",
     "output_type": "stream",
     "text": [
      "Empty DataFrame\n",
      "Columns: [BusinessTripId, StartDate, EndDate, EmployeeId, PostalCode, City, OvernightStays, HotelCosts, TravelCosts, Currency]\n",
      "Index: []\n",
      "=== 0\n"
     ]
    }
   ],
   "source": [
    "df_2 = df.loc[df['PostalCode'].str.startswith('2', na=False)]\n",
    "print(df_2.head())\n",
    "print(\"=\" * 3, len(df_2))"
   ]
  },
  {
   "cell_type": "code",
   "execution_count": 67,
   "metadata": {},
   "outputs": [
    {
     "name": "stdout",
     "output_type": "stream",
     "text": [
      "=== 16384\n",
      "  BusinessTripId   StartDate     EndDate EmployeeId PostalCode          City  \\\n",
      "0       BT102937  1996-01-02  1996-01-05    E107601      36266      Heringen   \n",
      "1       BT102938  1996-01-04  1996-01-09    E107601      36251  Bad Hersfeld   \n",
      "2       BT102945  1996-01-05  1996-01-07    E107590      36287   Breitenbach   \n",
      "3       BT102952  1996-01-06  1996-01-10    E107601      36219      Cornberg   \n",
      "4       BT102953  1996-01-06  1996-01-07    E107590      36287   Breitenbach   \n",
      "\n",
      "   OvernightStays  HotelCosts  TravelCosts Currency StrategicRegionId  \n",
      "0               3         0.0       101.01      EUR         GER100003  \n",
      "1               5         0.0       148.86      EUR         GER100003  \n",
      "2               2         0.0        62.05      EUR         GER100003  \n",
      "3               4         0.0       141.84      EUR         GER100003  \n",
      "4               1         0.0        33.29      EUR         GER100003  \n"
     ]
    },
    {
     "name": "stderr",
     "output_type": "stream",
     "text": [
      "C:\\Users\\Er Pravin Pandey\\AppData\\Local\\Temp\\ipykernel_14768\\964936075.py:2: SettingWithCopyWarning: \n",
      "A value is trying to be set on a copy of a slice from a DataFrame.\n",
      "Try using .loc[row_indexer,col_indexer] = value instead\n",
      "\n",
      "See the caveats in the documentation: https://pandas.pydata.org/pandas-docs/stable/user_guide/indexing.html#returning-a-view-versus-a-copy\n",
      "  df_3['StrategicRegionId'] = 'GER100003'\n"
     ]
    }
   ],
   "source": [
    "df_3 = df.loc[df['PostalCode'].str.startswith('3', na=False)]\n",
    "df_3['StrategicRegionId'] = 'GER100003'\n",
    "print(\"=\" * 3, len(df_3))\n",
    "print(df_3.head())"
   ]
  },
  {
   "cell_type": "code",
   "execution_count": 68,
   "metadata": {},
   "outputs": [
    {
     "name": "stdout",
     "output_type": "stream",
     "text": [
      "=== 133\n",
      "     BusinessTripId   StartDate     EndDate EmployeeId PostalCode  \\\n",
      "2415       BT113746  2000-02-16  2000-02-17    E107623      42657   \n",
      "2446       BT113897  2000-03-05  2000-03-13    E107623      49610   \n",
      "2505       BT114171  2000-04-04  2000-04-10    E107590      48465   \n",
      "2649       BT114813  2000-06-20  2000-06-28    E107681      40721   \n",
      "2684       BT114974  2000-07-10  2000-07-19    E107623      49459   \n",
      "\n",
      "                  City  OvernightStays  HotelCosts  TravelCosts Currency  \\\n",
      "2415          Solingen               1      175.85        30.93      EUR   \n",
      "2446       Quakenbrück               8     1353.73        25.67      EUR   \n",
      "2505          Quendorf               6     1007.31        26.52      EUR   \n",
      "2649            Hilden               8     1389.99        31.42      EUR   \n",
      "2684  Quernheimerbruch               9     1673.12        29.25      EUR   \n",
      "\n",
      "     StrategicRegionId  \n",
      "2415         GER100003  \n",
      "2446         GER100003  \n",
      "2505         GER100003  \n",
      "2649         GER100003  \n",
      "2684         GER100003  \n"
     ]
    },
    {
     "name": "stderr",
     "output_type": "stream",
     "text": [
      "C:\\Users\\Er Pravin Pandey\\AppData\\Local\\Temp\\ipykernel_14768\\476900171.py:2: SettingWithCopyWarning: \n",
      "A value is trying to be set on a copy of a slice from a DataFrame.\n",
      "Try using .loc[row_indexer,col_indexer] = value instead\n",
      "\n",
      "See the caveats in the documentation: https://pandas.pydata.org/pandas-docs/stable/user_guide/indexing.html#returning-a-view-versus-a-copy\n",
      "  df_4['StrategicRegionId'] = 'GER100003'\n"
     ]
    }
   ],
   "source": [
    "df_4 = df.loc[df['PostalCode'].str.startswith('4', na=False)]\n",
    "df_4['StrategicRegionId'] = 'GER100003'\n",
    "print(\"=\" * 3, len(df_4))\n",
    "print(df_4.head())"
   ]
  },
  {
   "cell_type": "code",
   "execution_count": 69,
   "metadata": {},
   "outputs": [
    {
     "name": "stdout",
     "output_type": "stream",
     "text": [
      "=== 600\n",
      "     BusinessTripId   StartDate     EndDate EmployeeId PostalCode  \\\n",
      "2344       BT113448  2000-01-11  2000-01-17    E107590      55743   \n",
      "2373       BT113573  2000-01-27  2000-02-05    E107623      53533   \n",
      "2501       BT114154  2000-04-02  2000-04-11    E107590      55234   \n",
      "2513       BT114206  2000-04-08  2000-04-14    E107691      56305   \n",
      "2521       BT114247  2000-04-11  2000-04-16    E107623      59069   \n",
      "\n",
      "              City  OvernightStays  HotelCosts  TravelCosts Currency  \\\n",
      "2344  Kirschweiler               6     1096.05        29.34      EUR   \n",
      "2373    Stahlhütte               9     1453.74        32.78      EUR   \n",
      "2501    Dintesheim               9     1660.58        24.70      EUR   \n",
      "2513   Niederähren               6      988.97        30.63      EUR   \n",
      "2521          Hamm               5      887.69        30.85      EUR   \n",
      "\n",
      "     StrategicRegionId  \n",
      "2344         GER100003  \n",
      "2373         GER100003  \n",
      "2501         GER100003  \n",
      "2513         GER100003  \n",
      "2521         GER100003  \n"
     ]
    },
    {
     "name": "stderr",
     "output_type": "stream",
     "text": [
      "C:\\Users\\Er Pravin Pandey\\AppData\\Local\\Temp\\ipykernel_14768\\420348957.py:2: SettingWithCopyWarning: \n",
      "A value is trying to be set on a copy of a slice from a DataFrame.\n",
      "Try using .loc[row_indexer,col_indexer] = value instead\n",
      "\n",
      "See the caveats in the documentation: https://pandas.pydata.org/pandas-docs/stable/user_guide/indexing.html#returning-a-view-versus-a-copy\n",
      "  df_5['StrategicRegionId'] = 'GER100003'\n"
     ]
    }
   ],
   "source": [
    "df_5 = df.loc[df['PostalCode'].str.startswith('5', na=False)]\n",
    "df_5['StrategicRegionId'] = 'GER100003'\n",
    "print(\"=\" * 3, len(df_5))\n",
    "print(df_5.head())"
   ]
  },
  {
   "cell_type": "code",
   "execution_count": 63,
   "metadata": {},
   "outputs": [
    {
     "name": "stdout",
     "output_type": "stream",
     "text": [
      "Empty DataFrame\n",
      "Columns: [BusinessTripId, StartDate, EndDate, EmployeeId, PostalCode, City, OvernightStays, HotelCosts, TravelCosts, Currency]\n",
      "Index: []\n",
      "=== 0\n"
     ]
    }
   ],
   "source": [
    "df_6 = df.loc[df['PostalCode'].str.startswith('6', na=False)]\n",
    "print(df_6.head())\n",
    "print(\"=\" * 3, len(df_6))"
   ]
  },
  {
   "cell_type": "code",
   "execution_count": 64,
   "metadata": {},
   "outputs": [
    {
     "name": "stdout",
     "output_type": "stream",
     "text": [
      "Empty DataFrame\n",
      "Columns: [BusinessTripId, StartDate, EndDate, EmployeeId, PostalCode, City, OvernightStays, HotelCosts, TravelCosts, Currency]\n",
      "Index: []\n",
      "=== 0\n"
     ]
    }
   ],
   "source": [
    "df_7 = df.loc[df['PostalCode'].str.startswith('7', na=False)]\n",
    "print(df_7.head())\n",
    "print(\"=\" * 3, len(df_7))"
   ]
  },
  {
   "cell_type": "code",
   "execution_count": 65,
   "metadata": {},
   "outputs": [
    {
     "name": "stdout",
     "output_type": "stream",
     "text": [
      "Empty DataFrame\n",
      "Columns: [BusinessTripId, StartDate, EndDate, EmployeeId, PostalCode, City, OvernightStays, HotelCosts, TravelCosts, Currency]\n",
      "Index: []\n",
      "=== 0\n"
     ]
    }
   ],
   "source": [
    "df_8 = df.loc[df['PostalCode'].str.startswith('8', na=False)]\n",
    "print(df_8.head())\n",
    "print(\"=\" * 3, len(df_8))"
   ]
  },
  {
   "cell_type": "code",
   "execution_count": 66,
   "metadata": {},
   "outputs": [
    {
     "name": "stdout",
     "output_type": "stream",
     "text": [
      "Empty DataFrame\n",
      "Columns: [BusinessTripId, StartDate, EndDate, EmployeeId, PostalCode, City, OvernightStays, HotelCosts, TravelCosts, Currency]\n",
      "Index: []\n",
      "=== 0\n"
     ]
    }
   ],
   "source": [
    "df_9 = df.loc[df['PostalCode'].str.startswith('9', na=False)]\n",
    "print(df_9.head())\n",
    "print(\"=\" * 3, len(df_9))"
   ]
  },
  {
   "cell_type": "code",
   "execution_count": 70,
   "metadata": {},
   "outputs": [
    {
     "name": "stdout",
     "output_type": "stream",
     "text": [
      "  BusinessTripId   StartDate     EndDate EmployeeId PostalCode          City  \\\n",
      "0       BT102937  1996-01-02  1996-01-05    E107601      36266      Heringen   \n",
      "1       BT102938  1996-01-04  1996-01-09    E107601      36251  Bad Hersfeld   \n",
      "2       BT102945  1996-01-05  1996-01-07    E107590      36287   Breitenbach   \n",
      "3       BT102952  1996-01-06  1996-01-10    E107601      36219      Cornberg   \n",
      "4       BT102953  1996-01-06  1996-01-07    E107590      36287   Breitenbach   \n",
      "\n",
      "   OvernightStays  HotelCosts  TravelCosts Currency StrategicRegionId  \n",
      "0               3         0.0       101.01      EUR         GER100003  \n",
      "1               5         0.0       148.86      EUR         GER100003  \n",
      "2               2         0.0        62.05      EUR         GER100003  \n",
      "3               4         0.0       141.84      EUR         GER100003  \n",
      "4               1         0.0        33.29      EUR         GER100003  \n",
      "***** 17117\n"
     ]
    }
   ],
   "source": [
    "dflist = [df_3,df_4,df_5]\n",
    "new_df = pd.concat(dflist, ignore_index=True)\n",
    "print(new_df.head())\n",
    "print(\"*\" *5, len(new_df))"
   ]
  },
  {
   "cell_type": "code",
   "execution_count": 71,
   "metadata": {},
   "outputs": [],
   "source": [
    "new_df.to_csv('sri_bussiness_trips.csv',index=False)"
   ]
  }
 ],
 "metadata": {
  "kernelspec": {
   "display_name": "base",
   "language": "python",
   "name": "python3"
  },
  "language_info": {
   "codemirror_mode": {
    "name": "ipython",
    "version": 3
   },
   "file_extension": ".py",
   "mimetype": "text/x-python",
   "name": "python",
   "nbconvert_exporter": "python",
   "pygments_lexer": "ipython3",
   "version": "3.9.13"
  },
  "orig_nbformat": 4
 },
 "nbformat": 4,
 "nbformat_minor": 2
}
